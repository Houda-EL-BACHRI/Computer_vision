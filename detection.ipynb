{
  "nbformat": 4,
  "nbformat_minor": 0,
  "metadata": {
    "anaconda-cloud": {},
    "kernelspec": {
      "display_name": "Python 3",
      "language": "python",
      "name": "python3"
    },
    "language_info": {
      "codemirror_mode": {
        "name": "ipython",
        "version": 3
      },
      "file_extension": ".py",
      "mimetype": "text/x-python",
      "name": "python",
      "nbconvert_exporter": "python",
      "pygments_lexer": "ipython3",
      "version": "3.6.1"
    },
    "colab": {
      "name": "detection.ipynb",
      "provenance": []
    }
  },
  "cells": [
    {
      "cell_type": "code",
      "metadata": {
        "id": "EtCL5UXOI1Nt"
      },
      "source": [
        "# face detection\n",
        "\n",
        "import cv2\n",
        "import numpy as np\n",
        "\n",
        "faceCascade = cv2.CascadeClassifier(\"ressources/haarcascade_frontalface_default.xml\")\n",
        "faceCascade1 = cv2.CascadeClassifier(\"ressources/haarcascade_eye.xml\")\n",
        "\n",
        "\n",
        "cap = cv2.VideoCapture(0)\n",
        "cap.set(3,640)\n",
        "cap.set(4,480)\n",
        "cap.set(10,100)\n",
        "while True:\n",
        "    succes, img = cap.read()\n",
        "    imgGray = cv2.cvtColor(img, cv2.COLOR_BGR2GRAY)\n",
        "    imgGray1 = cv2.cvtColor(img, cv2.COLOR_BGR2GRAY)\n",
        "\n",
        "    faces = faceCascade.detectMultiScale(imgGray, 1.3, 5)\n",
        "    faces1 = faceCascade1.detectMultiScale(imgGray1, 1.3, 5)\n",
        "    \n",
        "    for (x, y, w, h) in faces:\n",
        "        cv2.rectangle(img, (x, y), (x + w, y + h), (255, 0, 0), 2)\n",
        "        cv2.putText(img, \"Houda\", (x, y), cv2.FONT_HERSHEY_DUPLEX, 1, (0, 150, 0), 1)\n",
        "\n",
        "    for (a, b, c, d) in faces1:\n",
        "        cv2.rectangle(img, (a, b), (a + c, b + d), (255, 0, 0), 2)\n",
        "        cv2.putText(img, \"eye\", (a, b), cv2.FONT_HERSHEY_DUPLEX, 1, (0, 150, 0), 1)\n",
        "\n",
        "\n",
        "    # détection du visage en temps réel par la cam\n",
        "    cv2.imshow(\"video\", img)\n",
        "    if cv2.waitKey(1) & 0xFF == ord('q'):\n",
        "        break\n",
        "\n",
        "## detection dans une image\n",
        "\n",
        "#img = cv2.imread('ressources/bqchat.jpg')\n",
        "\n",
        "#cv2.imshow(\"Result\", img)\n",
        "#cv2.waitKey(0)"
      ],
      "execution_count": 2,
      "outputs": []
    }
  ]
}